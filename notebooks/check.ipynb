{
 "cells": [
  {
   "cell_type": "code",
   "execution_count": 3,
   "id": "7d15f582-5e6d-410b-b9be-d0a19b4d4374",
   "metadata": {},
   "outputs": [],
   "source": [
    "import pandas as pd"
   ]
  },
  {
   "cell_type": "code",
   "execution_count": 4,
   "id": "6c13a8fc-3c65-4cb4-9bc6-009eee2c83c9",
   "metadata": {},
   "outputs": [],
   "source": [
    "simpleqa = pd.read_csv(\n",
    "    \"https://openaipublic.blob.core.windows.net/simple-evals/simple_qa_test_set.csv\"\n",
    ")"
   ]
  },
  {
   "cell_type": "code",
   "execution_count": 5,
   "id": "410b13c1-b9b4-4e62-b398-a0b5aac7f0ee",
   "metadata": {},
   "outputs": [],
   "source": [
    "czech_simpleqa = pd.read_csv(\"czech-simpleqa_edited.csv\")\n",
    "\n",
    "expected_columns = simpleqa.columns.tolist() + [\n",
    "    \"translated_problem\",\n",
    "    \"translated_answer\",\n",
    "]\n",
    "\n",
    "for column in expected_columns:\n",
    "    assert column in czech_simpleqa.columns\n",
    "\n",
    "for column in [\"translated_problem_strict\", \"translated_answer_strict\"]:\n",
    "    assert column not in czech_simpleqa.columns\n",
    "\n",
    "\n",
    "czech_simpleqa = czech_simpleqa[expected_columns]\n",
    "\n",
    "for col in [\"problem\", \"answer\"]:\n",
    "    simpleqa[col] = simpleqa[col].str.strip()\n",
    "    czech_simpleqa[col] = czech_simpleqa[col].str.strip()"
   ]
  },
  {
   "cell_type": "code",
   "execution_count": 6,
   "id": "7d4ca728-2aea-4de6-9dec-85b0e44686cb",
   "metadata": {},
   "outputs": [],
   "source": [
    "simpleqa.loc[3696, \"answer\"] = (\n",
    "    \"University of Lund, Sweden \\nChinese Culture University in Taipei\"\n",
    ")"
   ]
  },
  {
   "cell_type": "code",
   "execution_count": 7,
   "id": "ee704adf-2ed4-4f64-b9b4-55dab16e9b45",
   "metadata": {},
   "outputs": [],
   "source": [
    "pd.testing.assert_frame_equal(simpleqa, czech_simpleqa[simpleqa.columns])"
   ]
  },
  {
   "cell_type": "code",
   "execution_count": 14,
   "id": "ab56799c-7df3-4582-9396-8934555d0b70",
   "metadata": {},
   "outputs": [],
   "source": [
    "czech_simpleqa[expected_columns].to_csv(\n",
    "    \"czech_simpleqa.csv.gz\", compression=\"infer\", index=False\n",
    ")"
   ]
  }
 ],
 "metadata": {
  "kernelspec": {
   "display_name": "Python 3 (ipykernel)",
   "language": "python",
   "name": "python3"
  },
  "language_info": {
   "codemirror_mode": {
    "name": "ipython",
    "version": 3
   },
   "file_extension": ".py",
   "mimetype": "text/x-python",
   "name": "python",
   "nbconvert_exporter": "python",
   "pygments_lexer": "ipython3",
   "version": "3.10.0"
  }
 },
 "nbformat": 4,
 "nbformat_minor": 5
}
